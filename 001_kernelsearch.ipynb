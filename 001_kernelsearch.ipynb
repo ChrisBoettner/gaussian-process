{
 "cells": [
  {
   "cell_type": "code",
   "execution_count": null,
   "metadata": {},
   "outputs": [],
   "source": [
    "from kernelsearch import KernelSearch\n",
    "from kernels import OrnsteinUhlenbeck\n",
    "from jaxtyping import install_import_hook\n",
    "import jax.numpy as jnp\n",
    "import jax.random as jr\n",
    "\n",
    "with install_import_hook(\"gpjax\", \"beartype.beartype\"):\n",
    "    import gpjax as gpx\n",
    "    from gpjax.kernels import RBF, Constant, Linear, Periodic, PoweredExponential\n",
    "\n",
    "# random seed\n",
    "key = jr.PRNGKey(42)"
   ]
  },
  {
   "cell_type": "markdown",
   "metadata": {},
   "source": [
    "# TESTING"
   ]
  },
  {
   "cell_type": "code",
   "execution_count": null,
   "metadata": {},
   "outputs": [],
   "source": [
    "# data\n",
    "n = 100\n",
    "noise = 0.3\n",
    "\n",
    "key, subkey = jr.split(key)\n",
    "x = jr.uniform(key=key, minval=-3.0, maxval=3.0, shape=(n,)).reshape(-1, 1)\n",
    "f = lambda x: jnp.sin(4 * x) + jnp.cos(2 * x)\n",
    "signal = f(x)\n",
    "y = signal + jr.normal(subkey, shape=signal.shape) * noise\n",
    "\n",
    "xtest = jnp.linspace(-3.5, 3.5, 500).reshape(-1, 1)\n",
    "ytest = f(xtest)"
   ]
  },
  {
   "cell_type": "code",
   "execution_count": null,
   "metadata": {},
   "outputs": [],
   "source": [
    "kernel_library = [\n",
    "    Linear(),\n",
    "    RBF(),\n",
    "    OrnsteinUhlenbeck(),\n",
    "    Periodic(),\n",
    "    PoweredExponential(power=jnp.array(0.8)),\n",
    "]  # default powered exponential has infinite parameter for some reason"
   ]
  },
  {
   "cell_type": "code",
   "execution_count": null,
   "metadata": {},
   "outputs": [],
   "source": [
    "tree = KernelSearch(\n",
    "    kernel_library,\n",
    "    X=x,\n",
    "    y=y,\n",
    "    obs_stddev=0.3,\n",
    "    verbosity=1,\n",
    ")\n",
    "\n",
    "model = tree.search(depth=5, n_leafs=3)"
   ]
  }
 ],
 "metadata": {
  "kernelspec": {
   "display_name": "hobby",
   "language": "python",
   "name": "python3"
  },
  "language_info": {
   "codemirror_mode": {
    "name": "ipython",
    "version": 3
   },
   "file_extension": ".py",
   "mimetype": "text/x-python",
   "name": "python",
   "nbconvert_exporter": "python",
   "pygments_lexer": "ipython3",
   "version": "3.10.13"
  }
 },
 "nbformat": 4,
 "nbformat_minor": 2
}
