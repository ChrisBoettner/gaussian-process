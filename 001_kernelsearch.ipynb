{
 "cells": [
  {
   "cell_type": "code",
   "execution_count": 1,
   "metadata": {},
   "outputs": [],
   "source": [
    "from kernelsearch import KernelSearch\n",
    "from kernels import OrnsteinUhlenbeck\n",
    "from jaxtyping import install_import_hook\n",
    "import jax.numpy as jnp\n",
    "import jax.random as jr\n",
    "\n",
    "with install_import_hook(\"gpjax\", \"beartype.beartype\"):\n",
    "    import gpjax as gpx\n",
    "    from gpjax.kernels import RBF, Constant, Linear, Periodic, PoweredExponential\n",
    "\n",
    "# random seed\n",
    "key = jr.PRNGKey(42)"
   ]
  },
  {
   "cell_type": "markdown",
   "metadata": {},
   "source": [
    "# TESTING"
   ]
  },
  {
   "cell_type": "code",
   "execution_count": 2,
   "metadata": {},
   "outputs": [],
   "source": [
    "# data\n",
    "n = 100\n",
    "noise = 0.3\n",
    "\n",
    "key, subkey = jr.split(key)\n",
    "x = jr.uniform(key=key, minval=-3.0, maxval=3.0, shape=(n,)).reshape(-1, 1)\n",
    "f = lambda x: jnp.sin(4 * x) + jnp.cos(2 * x)\n",
    "signal = f(x)\n",
    "y = signal + jr.normal(subkey, shape=signal.shape) * noise\n",
    "\n",
    "xtest = jnp.linspace(-3.5, 3.5, 500).reshape(-1, 1)\n",
    "ytest = f(xtest)"
   ]
  },
  {
   "cell_type": "code",
   "execution_count": 3,
   "metadata": {},
   "outputs": [],
   "source": [
    "kernel_library = [\n",
    "    Linear(),\n",
    "    RBF(),\n",
    "    OrnsteinUhlenbeck(),\n",
    "    Periodic(),\n",
    "    PoweredExponential(power=jnp.array(0.8)),\n",
    "]  # default powered exponential has infinite parameter for some reason"
   ]
  },
  {
   "cell_type": "code",
   "execution_count": 4,
   "metadata": {},
   "outputs": [
    {
     "name": "stderr",
     "output_type": "stream",
     "text": [
      "Fitting Layer 1:   0%|          | 0/5 [00:00<?, ?it/s]"
     ]
    },
    {
     "name": "stderr",
     "output_type": "stream",
     "text": [
      "Fitting Layer 1: 100%|██████████| 5/5 [00:06<00:00,  1.23s/it]\n"
     ]
    },
    {
     "name": "stdout",
     "output_type": "stream",
     "text": [
      "Layer 1 || Current BICs: [45.179920166196084, 73.87658262301538, 78.48175280948402, 292.263906637831, 1171.2001302012086]\n"
     ]
    },
    {
     "name": "stderr",
     "output_type": "stream",
     "text": [
      "Fitting Layer 2: 100%|██████████| 30/30 [00:42<00:00,  1.41s/it]"
     ]
    },
    {
     "name": "stdout",
     "output_type": "stream",
     "text": [
      "Layer 2 || Current BICs: [49.78471830601025, 49.785090352226824, 49.785090508079335, 53.49132175600381, 54.389885606479254, 54.38988769754202, 54.38989865663895, 54.39026061738552, 58.49776879647675, 58.995055792596034, 58.99507131500635, 66.39961456175199, 71.00083024796925, 78.4817528089967, 78.52125743663228, 78.63514731053223, 83.08692299525445, 83.08692301720465, 83.12642746887882, 83.12642758543072, 83.2396413587263, 87.65849638287614, 87.69209319138844, 87.73159765492437, 87.73159766392808, 92.2636665695964, 92.3367699927049, 113.93587662137641, 160.6658596270523, 165.27102988730678]\n",
      "No more improvements found! Terminating early..\n",
      "\n",
      "Terminated on layer: 2.\n",
      "Final log likelihood: -17.984789897109952\n",
      "Final number of model paramter: 2\n"
     ]
    },
    {
     "name": "stderr",
     "output_type": "stream",
     "text": [
      "\n"
     ]
    }
   ],
   "source": [
    "tree = KernelSearch(\n",
    "    kernel_library,\n",
    "    X=x,\n",
    "    y=y,\n",
    "    obs_stddev=0.3,\n",
    "    verbosity=1,\n",
    ")\n",
    "\n",
    "model = tree.search(depth=5, n_leafs=3)"
   ]
  }
 ],
 "metadata": {
  "kernelspec": {
   "display_name": "hobby",
   "language": "python",
   "name": "python3"
  },
  "language_info": {
   "codemirror_mode": {
    "name": "ipython",
    "version": 3
   },
   "file_extension": ".py",
   "mimetype": "text/x-python",
   "name": "python",
   "nbconvert_exporter": "python",
   "pygments_lexer": "ipython3",
   "version": "3.10.13"
  }
 },
 "nbformat": 4,
 "nbformat_minor": 2
}
