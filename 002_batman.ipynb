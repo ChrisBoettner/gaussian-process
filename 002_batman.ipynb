{
 "cells": [
  {
   "cell_type": "code",
   "execution_count": 129,
   "metadata": {},
   "outputs": [
    {
     "name": "stdout",
     "output_type": "stream",
     "text": [
      "The autoreload extension is already loaded. To reload it, use:\n",
      "  %reload_ext autoreload\n"
     ]
    }
   ],
   "source": [
    "%load_ext autoreload\n",
    "%autoreload 2\n",
    "\n",
    "import os\n",
    "import multiprocessing\n",
    "\n",
    "os.environ[\"XLA_FLAGS\"] = \"--xla_force_host_platform_device_count={}\".format(\n",
    "    multiprocessing.cpu_count()\n",
    ")\n",
    "\n",
    "import batman\n",
    "import gpjax as gpx\n",
    "import jax.numpy as jnp\n",
    "from jax import jit\n",
    "import matplotlib as mpl\n",
    "import matplotlib.pyplot as plt\n",
    "import numpy as np\n",
    "from beartype.typing import Callable\n",
    "from gpjax.kernels import RBF, Linear, Periodic, PoweredExponential\n",
    "from jaxoplanet.light_curves import LimbDarkLightCurve\n",
    "from jax.tree_util import tree_leaves, tree_structure\n",
    "\n",
    "from jaxoplanet import orbits\n",
    "from gpjax.typing import (\n",
    "    Array,\n",
    "    ScalarFloat,\n",
    ")\n",
    "\n",
    "from kernels import OrnsteinUhlenbeck\n",
    "from kernelsearch import KernelSearch, describe_kernel, get_trainables, jit_set_trainables\n",
    "\n",
    "import emcee\n",
    "\n",
    "rng = np.random.default_rng(seed=42)"
   ]
  },
  {
   "cell_type": "code",
   "execution_count": 130,
   "metadata": {},
   "outputs": [],
   "source": [
    "plt.style.use(\n",
    "    \"https://raw.githubusercontent.com/JaxGaussianProcesses/GPJax/main/docs/examples/gpjax.mplstyle\"\n",
    ")\n",
    "cols = mpl.rcParams[\"axes.prop_cycle\"].by_key()[\"color\"]"
   ]
  },
  {
   "cell_type": "code",
   "execution_count": 131,
   "metadata": {},
   "outputs": [],
   "source": [
    "# def calculate_lightcurve(t, params):\n",
    "#     param_container = batman.TransitParams()\n",
    "#     param_container.t0 = params[0]  # time of inferior conjunction\n",
    "#     param_container.per = 1.0  # orbital period\n",
    "#     param_container.rp = params[1]  # planet radius (in units of stellar radii)\n",
    "#     param_container.a = params[2]  # semi-major axis (in units of stellar radii)\n",
    "#     param_container.inc = 87.0  # orbital inclination (in degrees)\n",
    "#     param_container.ecc = 0.0  # eccentricity\n",
    "#     param_container.w = 90.0  # longitude of periastron (in degrees)\n",
    "#     param_container.u = [params[3], params[4]]  # limb darkening coefficients [u1, u2]\n",
    "#     param_container.limb_dark = \"quadratic\"  # limb darkening model\n",
    "\n",
    "#     m = batman.TransitModel(param_container, t)  # initializes model\n",
    "#     return m.light_curve(param_container)\n",
    "\n",
    "\n",
    "@jit\n",
    "def calculate_lightcurve(t, params):\n",
    "    # The light curve calculation requires an orbit\n",
    "    orbit = orbits.keplerian.Body(\n",
    "        period=params[\"period\"],\n",
    "        radius=params[\"radius\"],\n",
    "        inclination=params[\"inclination\"],\n",
    "        time_transit=params[\"time_transit\"],\n",
    "    )\n",
    "\n",
    "    lc = LimbDarkLightCurve(params[\"u\"]).light_curve(orbit, t=t)\n",
    "    return lc"
   ]
  },
  {
   "cell_type": "code",
   "execution_count": 132,
   "metadata": {},
   "outputs": [],
   "source": [
    "t = np.linspace(-0.2, 0.4, 1000)\n",
    "\n",
    "true_params = {\n",
    "    \"period\": 15,  # period in days\n",
    "    \"radius\": 0.1,\n",
    "    \"inclination\": jnp.deg2rad(89),\n",
    "    \"time_transit\": 0,\n",
    "    \"u\": jnp.array([0.1, 0.3]),\n",
    "}\n",
    "\n",
    "\n",
    "true_lightcurve = calculate_lightcurve(\n",
    "    t=t,\n",
    "    # params=[0, 0.1, 15, 0.1, 0.3],\n",
    "    params=true_params,\n",
    ")"
   ]
  },
  {
   "cell_type": "code",
   "execution_count": 133,
   "metadata": {},
   "outputs": [],
   "source": [
    "test_ind = np.sort(rng.choice(len(t), 150))\n",
    "t_train = t[test_ind]\n",
    "lc_latent = (\n",
    "    true_lightcurve\n",
    "    - 0.05 * np.cos(20 * t / (2 * np.pi))\n",
    "    + 0.08 * (((t - 0.05) / t[-1]) ** 2) * np.sin(400 * t / (2 * np.pi))\n",
    ")\n",
    "lc_train = lc_latent[test_ind] + rng.normal(scale=0.003, size=len(test_ind))"
   ]
  },
  {
   "cell_type": "code",
   "execution_count": 134,
   "metadata": {},
   "outputs": [],
   "source": [
    "mask = jnp.array(~np.ma.masked_where((-0.1 < t_train) & (t_train < 0.1), t_train).mask)"
   ]
  },
  {
   "cell_type": "code",
   "execution_count": 135,
   "metadata": {},
   "outputs": [
    {
     "data": {
      "text/plain": [
       "<matplotlib.collections.PathCollection at 0x7f1af06f7850>"
      ]
     },
     "execution_count": 135,
     "metadata": {},
     "output_type": "execute_result"
    },
    {
     "data": {
      "image/png": "[encoded data removed]",
      "text/plain": [
       "<Figure size 660x300 with 1 Axes>"
      ]
     },
     "metadata": {},
     "output_type": "display_data"
    }
   ],
   "source": [
    "# plt.plot(t, true_lightcurve)\n",
    "plt.scatter(t_train, lc_train)"
   ]
  },
  {
   "cell_type": "code",
   "execution_count": 136,
   "metadata": {},
   "outputs": [],
   "source": [
    "kernel_library = [\n",
    "    Linear(),\n",
    "    RBF(),\n",
    "    OrnsteinUhlenbeck(),\n",
    "    Periodic(),\n",
    "    # PoweredExponential(power=jnp.array(0.5)),\n",
    "]  # default powered exponential has infinite parameter for some reason"
   ]
  },
  {
   "cell_type": "code",
   "execution_count": 137,
   "metadata": {},
   "outputs": [
    {
     "name": "stderr",
     "output_type": "stream",
     "text": [
      "Fitting Layer 1: 100%|██████████| 4/4 [00:03<00:00,  1.19it/s]"
     ]
    },
    {
     "name": "stdout",
     "output_type": "stream",
     "text": [
      "Layer 1 || Current AICs: [-818.1517526806291, -748.4326837454688, -719.7870366910872, 11946.263191677544]\n",
      "Terminated on layer: 1.\n",
      "Final log likelihood: 411.07587634031455\n",
      "Final number of model paramter: 2\n"
     ]
    },
    {
     "name": "stderr",
     "output_type": "stream",
     "text": [
      "\n"
     ]
    }
   ],
   "source": [
    "tree = KernelSearch(\n",
    "    kernel_library,\n",
    "    X=jnp.array(t_train[mask]),\n",
    "    y=jnp.array(lc_train[mask]),\n",
    "    obs_stddev=0.003,\n",
    "    verbosity=1,\n",
    ")\n",
    "\n",
    "model = tree.search(\n",
    "    depth=1,  # 7\n",
    "    n_leafs=1,  # 3\n",
    "    patience=1,\n",
    ")"
   ]
  },
  {
   "cell_type": "code",
   "execution_count": 138,
   "metadata": {},
   "outputs": [
    {
     "data": {
      "text/plain": [
       "'RBF'"
      ]
     },
     "execution_count": 138,
     "metadata": {},
     "output_type": "execute_result"
    }
   ],
   "source": [
    "describe_kernel(model)"
   ]
  },
  {
   "cell_type": "code",
   "execution_count": 139,
   "metadata": {},
   "outputs": [],
   "source": [
    "latent_dist = model(t.reshape(-1, 1), train_data=tree.data)\n",
    "predictive_dist = model.likelihood(latent_dist)\n",
    "\n",
    "predictive_mean = predictive_dist.mean()\n",
    "predictive_std = predictive_dist.stddev()"
   ]
  },
  {
   "cell_type": "code",
   "execution_count": 140,
   "metadata": {},
   "outputs": [
    {
     "data": {
      "text/plain": [
       "<matplotlib.legend.Legend at 0x7f1b3a0d6200>"
      ]
     },
     "execution_count": 140,
     "metadata": {},
     "output_type": "execute_result"
    },
    {
     "data": {
      "image/png": "[encoded data removed]",
      "text/plain": [
       "<Figure size 900x300 with 1 Axes>"
      ]
     },
     "metadata": {},
     "output_type": "display_data"
    }
   ],
   "source": [
    "fig, ax = plt.subplots(figsize=(7.5, 2.5))\n",
    "ax.scatter(t_train, lc_train, label=\"Observations\", color=cols[0], alpha=0.5)\n",
    "ax.fill_between(\n",
    "    t,\n",
    "    predictive_mean - 2 * predictive_std,\n",
    "    predictive_mean + 2 * predictive_std,\n",
    "    alpha=0.2,\n",
    "    label=\"Two sigma\",\n",
    "    color=cols[1],\n",
    ")\n",
    "ax.plot(\n",
    "    t,\n",
    "    predictive_mean - 2 * predictive_std,\n",
    "    linestyle=\"--\",\n",
    "    linewidth=1,\n",
    "    color=cols[1],\n",
    ")\n",
    "ax.plot(\n",
    "    t,\n",
    "    predictive_mean + 2 * predictive_std,\n",
    "    linestyle=\"--\",\n",
    "    linewidth=1,\n",
    "    color=cols[1],\n",
    ")\n",
    "ax.plot(\n",
    "    t,\n",
    "    lc_latent,\n",
    "    label=\"Latent function\",\n",
    "    color=cols[0],\n",
    "    linestyle=\"--\",\n",
    "    linewidth=2,\n",
    ")\n",
    "ax.plot(t, predictive_mean, label=\"Predictive mean\", color=cols[1])\n",
    "ax.legend(loc=\"center left\", bbox_to_anchor=(0.975, 0.5))"
   ]
  },
  {
   "cell_type": "markdown",
   "metadata": {},
   "source": [
    "## TEST MCMC"
   ]
  },
  {
   "cell_type": "code",
   "execution_count": 141,
   "metadata": {},
   "outputs": [],
   "source": [
    "import jax\n",
    "import blackjax\n",
    "from gpjax.objectives import AbstractObjective\n",
    "from blackjax.progress_bar import progress_bar_scan\n",
    "\n",
    "key = jax.random.PRNGKey(123)"
   ]
  },
  {
   "cell_type": "code",
   "execution_count": 142,
   "metadata": {},
   "outputs": [],
   "source": [
    "@jit\n",
    "def lc_model(t, params):\n",
    "    # The light curve calculation requires an orbit\n",
    "    orbit = orbits.keplerian.Body(\n",
    "        period=15,\n",
    "        radius=params[0],\n",
    "        inclination=jnp.deg2rad(89),\n",
    "        time_transit=0,\n",
    "    )\n",
    "\n",
    "    lc = LimbDarkLightCurve([params[2], params[3]]).light_curve(orbit, t=t)\n",
    "    return lc"
   ]
  },
  {
   "cell_type": "code",
   "execution_count": 143,
   "metadata": {},
   "outputs": [],
   "source": [
    "# replace this by something that takes params explcitly as input, to MCMC sample\n",
    "def make_logprob_func(\n",
    "    gp_posterior: gpx.gps.AbstractPosterior,\n",
    "    lc_model: Callable,\n",
    "    X,\n",
    "    y,\n",
    "    mask,\n",
    "):\n",
    "    D = gpx.Dataset(X=X.reshape(-1, 1), y=y.reshape(-1, 1))\n",
    "    D_masked = gpx.Dataset(X=X[mask].reshape(-1, 1), y=y[mask].reshape(-1, 1))\n",
    "    trainable_idx = jnp.argwhere(jnp.array(tree_leaves(model.trainables()))).reshape(-1)\n",
    "\n",
    "    # @jit\n",
    "    def objective(params):\n",
    "        x, y = D.X, D.y\n",
    "\n",
    "        updated_posterior = jit_set_trainables(\n",
    "            gp_posterior,\n",
    "            jnp.array(params[\"gp_parameter\"]),\n",
    "            trainable_idx,\n",
    "        ).constrain()\n",
    "\n",
    "        latent_dist = updated_posterior(\n",
    "            x,\n",
    "            train_data=D_masked,\n",
    "        )\n",
    "        predictive_dist = updated_posterior.likelihood(\n",
    "            latent_dist\n",
    "        )  # adds observational uncertainty\n",
    "\n",
    "        lightcurve = lc_model(x, params[\"lc_parameter\"])\n",
    "\n",
    "        res = (y - lightcurve).reshape(-1)\n",
    "        log_prob = predictive_dist.log_prob(res)\n",
    "\n",
    "        return jnp.nan_to_num(log_prob, nan=-jnp.inf)\n",
    "\n",
    "    return objective"
   ]
  },
  {
   "cell_type": "code",
   "execution_count": 144,
   "metadata": {},
   "outputs": [],
   "source": [
    "objective = make_logprob_func(model.unconstrain(), lc_model, t_train, lc_train, mask)\n",
    "\n",
    "\n",
    "gp_initial_params = get_trainables(model, unconstrain=True)\n",
    "initial_params = {\n",
    "    \"gp_parameter\": get_trainables(model, unconstrain=True),\n",
    "    \"lc_parameter\": jnp.asarray([0.2, 1.5, 0, 0.5]),\n",
    "}"
   ]
  },
  {
   "cell_type": "code",
   "execution_count": 173,
   "metadata": {},
   "outputs": [
    {
     "name": "stdout",
     "output_type": "stream",
     "text": [
      "Running window adaptation\n"
     ]
    },
    {
     "data": {
      "text/html": [
       "\n",
       "<style>\n",
       "    /* Turns off some styling */\n",
       "    progress {\n",
       "        /* gets rid of default border in Firefox and Opera. */\n",
       "        border: none;\n",
       "        /* Needs to be in here for Safari polyfill so background images work as expected. */\n",
       "        background-size: auto;\n",
       "    }\n",
       "    progress:not([value]), progress:not([value])::-webkit-progress-bar {\n",
       "        background: repeating-linear-gradient(45deg, #7e7e7e, #7e7e7e 10px, #5c5c5c 10px, #5c5c5c 20px);\n",
       "    }\n",
       "    .progress-bar-interrupted, .progress-bar-interrupted::-webkit-progress-bar {\n",
       "        background: #F44336;\n",
       "    }\n",
       "</style>\n"
      ],
      "text/plain": [
       "<IPython.core.display.HTML object>"
      ]
     },
     "metadata": {},
     "output_type": "display_data"
    },
    {
     "data": {
      "text/html": [
       "\n",
       "    <div>\n",
       "      <progress value='5' class='' max='5' style='width:300px; height:20px; vertical-align: middle;'></progress>\n",
       "      100.00% [5/5 00:00&lt;?]\n",
       "    </div>\n",
       "    "
      ],
      "text/plain": [
       "<IPython.core.display.HTML object>"
      ]
     },
     "metadata": {},
     "output_type": "display_data"
    },
    {
     "name": "stdout",
     "output_type": "stream",
     "text": [
      "\n"
     ]
    }
   ],
   "source": [
    "# Adapted from BlackJax's introduction notebook.\n",
    "num_adapt = 5\n",
    "num_samples = 5\n",
    "num_chains = 4\n",
    "\n",
    "warmup = blackjax.window_adaptation(\n",
    "    blackjax.nuts,\n",
    "    objective,\n",
    "    target_acceptance_rate=0.65,\n",
    "    progress_bar=True,\n",
    ")\n",
    "rng_key, warmup_key, sample_key = jax.random.split(key, 3)\n",
    "(state, parameters), _ = warmup.run(warmup_key, initial_params, num_steps=num_adapt)"
   ]
  },
  {
   "cell_type": "code",
   "execution_count": 192,
   "metadata": {},
   "outputs": [],
   "source": [
    "def run_inference_algorithm(\n",
    "    rng_key,\n",
    "    initial_state_or_position,\n",
    "    inference_algorithm,\n",
    "    num_steps: int,\n",
    "    progress_bar: bool = False,\n",
    ") -> tuple:\n",
    "    init_key, sample_key = jax.random.split(rng_key, 2)\n",
    "    try:\n",
    "        initial_state = inference_algorithm.init(initial_state_or_position, init_key)\n",
    "    except (TypeError, ValueError, AttributeError):\n",
    "        # We assume initial_state is already in the right format.\n",
    "        initial_state = initial_state_or_position\n",
    "\n",
    "    keys = jax.random.split(sample_key, num_steps)\n",
    "\n",
    "    @jit\n",
    "    def _one_step(state, xs):\n",
    "        _, rng_key = xs\n",
    "        state, info = inference_algorithm.step(rng_key, state)\n",
    "        return state, (state, info)\n",
    "\n",
    "    if progress_bar:\n",
    "        one_step = progress_bar_scan(num_steps)(_one_step)\n",
    "    else:\n",
    "        one_step = _one_step\n",
    "\n",
    "    xs = (jnp.arange(num_steps), keys)\n",
    "    final_state, (state_history, info_history) = jax.lax.scan(\n",
    "        one_step, initial_state, xs\n",
    "    )\n",
    "    return final_state, state_history, info_history"
   ]
  },
  {
   "cell_type": "code",
   "execution_count": 195,
   "metadata": {},
   "outputs": [],
   "source": [
    "nuts = blackjax.nuts(objective, **parameters)\n",
    "\n",
    "initial_positions = {\n",
    "    \"gp_parameter\": jnp.tile(state.position[\"gp_parameter\"], (num_chains, 1)),\n",
    "    \"lc_parameter\": jnp.tile(state.position[\"lc_parameter\"], (num_chains, 1)),\n",
    "}\n",
    "\n",
    "initial_states = jax.vmap(nuts.init, in_axes=(0))(initial_positions)\n",
    "\n",
    "inference_loop_multiple_chains = jax.pmap(\n",
    "    run_inference_algorithm,\n",
    "    in_axes=(0, 0, None, None, None),\n",
    "    static_broadcasted_argnums=(2, 3, 4),\n",
    ")\n",
    "rng_key, sample_key = jax.random.split(key)\n",
    "sample_keys = jax.random.split(sample_key, num_chains)"
   ]
  },
  {
   "cell_type": "code",
   "execution_count": 196,
   "metadata": {},
   "outputs": [],
   "source": [
    "pmap_states = inference_loop_multiple_chains(\n",
    "    sample_keys,\n",
    "    initial_states,\n",
    "    nuts,\n",
    "    num_samples,\n",
    "    False,\n",
    ")\n",
    "\n",
    "# final_state, state_history, info_history = run_inference_algorithm(\n",
    "#     sample_key, state, nuts, num_steps=num_samples, progress_bar=True\n",
    "# )"
   ]
  },
  {
   "cell_type": "code",
   "execution_count": 233,
   "metadata": {},
   "outputs": [
    {
     "data": {
      "text/plain": [
       "Array([[[-2.95398062, -5.95349622],\n",
       "        [-2.95398062, -5.95349622],\n",
       "        [-2.95398062, -5.95349622],\n",
       "        [-2.95398062, -5.95349622],\n",
       "        [-2.95398062, -5.95349622]],\n",
       "\n",
       "       [[-2.95398062, -5.95349622],\n",
       "        [-2.95398062, -5.95349622],\n",
       "        [-2.95398062, -5.95349622],\n",
       "        [-2.95398062, -5.95349622],\n",
       "        [-2.95398062, -5.95349622]],\n",
       "\n",
       "       [[-2.95398062, -5.95349622],\n",
       "        [-2.95398062, -5.95349622],\n",
       "        [-3.17552614, -6.07371894],\n",
       "        [-3.38550866, -6.03302823],\n",
       "        [-3.31408155, -6.02775299]],\n",
       "\n",
       "       [[-2.95398062, -5.95349622],\n",
       "        [-2.95398062, -5.95349622],\n",
       "        [-2.95398062, -5.95349622],\n",
       "        [-2.95398062, -5.95349622],\n",
       "        [-2.95398062, -5.95349622]]], dtype=float64)"
      ]
     },
     "execution_count": 233,
     "metadata": {},
     "output_type": "execute_result"
    }
   ],
   "source": [
    "pmap_states[1].position[\"gp_parameter\"]"
   ]
  }
 ],
 "metadata": {
  "kernelspec": {
   "display_name": "hobby",
   "language": "python",
   "name": "python3"
  },
  "language_info": {
   "codemirror_mode": {
    "name": "ipython",
    "version": 3
   },
   "file_extension": ".py",
   "mimetype": "text/x-python",
   "name": "python",
   "nbconvert_exporter": "python",
   "pygments_lexer": "ipython3",
   "version": "3.10.13"
  }
 },
 "nbformat": 4,
 "nbformat_minor": 2
}
