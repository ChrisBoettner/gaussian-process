{
 "cells": [
  {
   "cell_type": "code",
   "execution_count": 2,
   "metadata": {},
   "outputs": [],
   "source": [
    "# Enable Float64 for more stable matrix inversions.\n",
    "from jax import config\n",
    "\n",
    "config.update(\"jax_enable_x64\", True)\n",
    "# config.update(\"jax_debug_nans\", True)\n",
    "\n",
    "from jax import jit, tree_map\n",
    "import jax.numpy as jnp\n",
    "import jax.random as jr\n",
    "from jaxtyping import install_import_hook, Array\n",
    "from copy import deepcopy\n",
    "from typing import Optional\n",
    "import numpy as np\n",
    "from gpjax.base import meta_leaves\n",
    "from jax.flatten_util import ravel_pytree\n",
    "from jax.stages import Wrapped\n",
    "import warnings\n",
    "import optax as ox\n",
    "\n",
    "with install_import_hook(\"gpjax\", \"beartype.beartype\"):\n",
    "    import gpjax as gpx\n",
    "    from gpjax.kernels import Constant, Linear, RBF, Periodic, PoweredExponential\n",
    "\n",
    "key = jr.PRNGKey(42)"
   ]
  },
  {
   "cell_type": "code",
   "execution_count": 3,
   "metadata": {},
   "outputs": [],
   "source": [
    "# data\n",
    "n = 100\n",
    "noise = 0.3\n",
    "\n",
    "key, subkey = jr.split(key)\n",
    "x = jr.uniform(key=key, minval=-3.0, maxval=3.0, shape=(n,)).reshape(-1, 1)\n",
    "f = lambda x: jnp.sin(4 * x) + jnp.cos(2 * x)\n",
    "signal = f(x)\n",
    "y = signal + jr.normal(subkey, shape=signal.shape) * noise\n",
    "\n",
    "D = gpx.Dataset(X=x, y=y)\n",
    "\n",
    "xtest = jnp.linspace(-3.5, 3.5, 500).reshape(-1, 1)\n",
    "ytest = f(xtest)"
   ]
  },
  {
   "cell_type": "code",
   "execution_count": 22,
   "metadata": {},
   "outputs": [],
   "source": [
    "k = PoweredExponential().replace(power=jnp.array(0.8))\n",
    "prior = gpx.gps.Prior(mean_function=gpx.mean_functions.Zero(), kernel=k)\n",
    "lh = gpx.likelihoods.Gaussian(num_datapoints=D.n, obs_stddev=0.3).replace_trainable(\n",
    "    obs_stddev=False\n",
    ")\n",
    "post = lh * prior"
   ]
  },
  {
   "cell_type": "code",
   "execution_count": 24,
   "metadata": {},
   "outputs": [
    {
     "data": {
      "text/plain": [
       "(Array([1. , 0.8, 1. ], dtype=float64, weak_type=True),\n",
       " <jax._src.util.HashablePartial at 0x7f8c8ae6b430>)"
      ]
     },
     "execution_count": 24,
     "metadata": {},
     "output_type": "execute_result"
    }
   ],
   "source": [
    "ravel_pytree(PoweredExponential(power=jnp.array(0.8)))"
   ]
  },
  {
   "cell_type": "code",
   "execution_count": 20,
   "metadata": {},
   "outputs": [
    {
     "data": {
      "text/plain": [
       "[({'bijector': <tfp.bijectors.Softplus 'softplus' batch_shape=[] forward_min_event_ndims=0 inverse_min_event_ndims=0 dtype_x=? dtype_y=?>,\n",
       "   'trainable': True,\n",
       "   'pytree_node': True},\n",
       "  Array(0.54132485, dtype=float64)),\n",
       " ({'bijector': <tfp.bijectors.Sigmoid 'sigmoid' batch_shape=[] forward_min_event_ndims=0 inverse_min_event_ndims=0 dtype_x=? dtype_y=?>,\n",
       "   'trainable': True,\n",
       "   'pytree_node': True},\n",
       "  Array(1.38629436, dtype=float64, weak_type=True)),\n",
       " ({'bijector': <tfp.bijectors.Softplus 'softplus' batch_shape=[] forward_min_event_ndims=0 inverse_min_event_ndims=0 dtype_x=? dtype_y=?>,\n",
       "   'trainable': True,\n",
       "   'pytree_node': True},\n",
       "  Array(0.54132485, dtype=float64))]"
      ]
     },
     "execution_count": 20,
     "metadata": {},
     "output_type": "execute_result"
    }
   ],
   "source": [
    "meta_leaves(PoweredExponential().replace(power=jnp.array(0.8)).unconstrain())"
   ]
  },
  {
   "cell_type": "code",
   "execution_count": 23,
   "metadata": {},
   "outputs": [
    {
     "name": "stdout",
     "output_type": "stream",
     "text": [
      "(Array([0.3, 1. , 0.8, 1. ], dtype=float64, weak_type=True), <jax._src.util.HashablePartial object at 0x7f8c8b0cbf70>)\n",
      "(Array([-1.05022573,  0.54132485,  1.38629436,  0.54132485], dtype=float64), <jax._src.util.HashablePartial object at 0x7f8cde0e2ce0>)\n",
      "[-1.05022573  0.54132485  1.38629436  0.54132485] <jax._src.util.HashablePartial object at 0x7f8cde0e2ce0>\n",
      "[ 0.         -2.83754736 -5.24593602  3.2500574 ]\n",
      "[ 0.         -2.83754736 -5.24593602  3.2500574 ]\n",
      "[ 0.          3.32161922 -1.45554478 -5.79452998]\n",
      "[-1.05022573  0.9632662   2.16636146  0.05804354]\n",
      "[ 0.          1.07510472 -0.799189   -1.4263123 ]\n",
      "[-1.05022573  0.87173439  3.07109454  0.44422486]\n",
      "[ 0.         -0.9466767  -0.47250745  0.86478403]\n",
      "[-1.05022573  0.48428155  3.83270158  0.44467597]\n",
      "[ 0.         -0.42055976 -0.32765332  0.5127217 ]\n",
      "[-1.05022573  0.68156774  4.15284947  0.56992843]\n",
      "[ 0.         -0.19762626 -0.16887522  0.39642081]\n",
      "[-1.05022573  0.81031629  4.7902646   0.67337745]\n",
      "[ 0.         -0.10720213 -0.09621533  0.32697057]\n",
      "[-1.05022573  0.84060958  5.34364864  0.69521984]\n",
      "[ 0.         -0.06022707 -0.04839759  0.25530839]\n",
      "[-1.05022573  0.80710649  6.03172841  0.66090163]\n",
      "[ 0.         -0.04046883 -0.02206005  0.15409011]\n",
      "[-1.05022573  0.71598079  6.82708881  0.57307807]\n",
      "[ 0.         -0.02075789 -0.01053608  0.02175599]\n",
      "[-1.05022573  0.62079509  7.57608167  0.47877938]\n",
      "[ 0.          0.00215832 -0.00716703 -0.04420425]\n",
      "[-1.05022573  0.59257574  7.96314443  0.44807768]\n",
      "[ 0.          0.01450227 -0.00509946 -0.06662899]\n",
      "[-1.05022573  0.58720044  8.30329996  0.44117911]\n",
      "[ 0.          0.01824773 -0.00274874 -0.06025425]\n",
      "[-1.05022573  0.59446912  8.92021015  0.44796137]\n",
      "[ 0.          0.00666964 -0.00128484 -0.02132264]\n",
      "[-1.05022573  0.61200209  9.67952758  0.46696374]\n",
      "[ 0.         -0.00219072 -0.00068943  0.00480614]\n",
      "[-1.05022573  0.62333529 10.30139883  0.47941394]\n",
      "[ 0.         -0.00480795 -0.00040708  0.0135113 ]\n",
      "[-1.05022573  0.62749534 10.82797189  0.48389409]\n",
      "[ 0.         -0.00444071 -0.00021985  0.01315521]\n",
      "[-1.05022573  0.62753123 11.44401233  0.48389191]\n",
      "[ 0.         -0.00216996 -0.0001066   0.00651415]\n",
      "[-1.05022573  0.62454645 12.16806941  0.48064885]\n",
      "[ 0.00000000e+00 -7.99042197e-05 -5.37799365e-05  1.37499099e-04]\n",
      "[-1.05022573  0.62163109 12.85243121  0.47749456]\n",
      "[ 0.00000000e+00  8.35780335e-04 -2.98760059e-05 -2.60514344e-03]\n",
      "[-1.05022573  0.6203999  13.44035362  0.47615758]\n",
      "[ 0.00000000e+00  9.36370167e-04 -1.60281975e-05 -2.86598477e-03]\n",
      "[-1.05022573  0.62029334 14.06306531  0.47603979]\n",
      "[ 0.00000000e+00  5.04935878e-04 -7.86793539e-06 -1.53926713e-03]\n",
      "[-1.05022573  0.6208951  14.77458069  0.47669275]\n",
      "[ 0.00000000e+00  3.41460587e-05 -3.93755792e-06 -1.10320234e-04]\n",
      "[-1.05022573  0.62153964 15.46677504  0.47739295]\n",
      "[ 0.00000000e+00 -1.85808915e-04 -2.10937803e-06  5.59553973e-04]\n",
      "[-1.05022573  0.6218429  16.0909234   0.47772217]\n",
      "[ 0.00000000e+00 -2.08702061e-04 -1.11111495e-06  6.31664242e-04]\n",
      "[-1.05022573  0.62187614 16.73195039  0.47775814]\n",
      "[ 0.00000000e+00 -1.14417559e-04 -5.49114798e-07  3.46634527e-04]\n",
      "[-1.05022573  0.62174744 17.43677025  0.47761842]\n",
      "[ 0.00000000e+00 -1.02117101e-05 -2.74342467e-07  3.05492130e-05]\n",
      "[-1.05022573  0.62160452 18.13070963  0.4774633 ]\n",
      "[ 0.00000000e+00  4.10629696e-05 -1.44120907e-07 -1.24876290e-04]\n",
      "[-1.05022573  0.6215343  18.7744387   0.47738707]\n",
      "[ 0.00000000e+00  4.64389186e-05 -7.48682783e-08 -1.41029383e-04]\n",
      "[-1.05022573  0.62152704 19.42936145  0.47737918]\n",
      "[ 0.00000000e+00  2.52380143e-05 -3.71062174e-08 -7.66281645e-05]\n",
      "[-1.05022573  0.62155616 20.13130533  0.47741079]\n",
      "[ 0.00000000e+00  1.97992419e-06 -1.85506941e-08 -6.03705199e-06]\n",
      "[-1.05022573  0.62158806 20.82458056  0.47744543]\n",
      "Optimization terminated successfully.\n",
      "         Current function value: 60.288224\n",
      "         Iterations: 30\n",
      "         Function evaluations: 31\n",
      "         Gradient evaluations: 31\n"
     ]
    }
   ],
   "source": [
    "static_tree = tree_map(lambda x: not (x), post)\n",
    "optim = ox.chain(\n",
    "    ox.adam(learning_rate=0.003),\n",
    "    ox.masked(\n",
    "        ox.set_to_zero(),\n",
    "        static_tree,\n",
    "    ),\n",
    ")\n",
    "optimized_posterior, history = gpx.fit_scipy(\n",
    "    model=post,\n",
    "    objective=gpx.objectives.ConjugateMLL(negative=True),\n",
    "    train_data=D,\n",
    "    verbose=True,\n",
    ")"
   ]
  },
  {
   "cell_type": "code",
   "execution_count": 6,
   "metadata": {},
   "outputs": [
    {
     "data": {
      "text/plain": [
       "Array([583.29764153], dtype=float64)"
      ]
     },
     "execution_count": 6,
     "metadata": {},
     "output_type": "execute_result"
    }
   ],
   "source": [
    "history"
   ]
  },
  {
   "cell_type": "code",
   "execution_count": null,
   "metadata": {},
   "outputs": [],
   "source": []
  }
 ],
 "metadata": {
  "kernelspec": {
   "display_name": "hobby",
   "language": "python",
   "name": "python3"
  },
  "language_info": {
   "codemirror_mode": {
    "name": "ipython",
    "version": 3
   },
   "file_extension": ".py",
   "mimetype": "text/x-python",
   "name": "python",
   "nbconvert_exporter": "python",
   "pygments_lexer": "ipython3",
   "version": "3.10.13"
  }
 },
 "nbformat": 4,
 "nbformat_minor": 2
}
